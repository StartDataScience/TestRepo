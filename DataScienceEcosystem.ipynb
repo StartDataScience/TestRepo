{
 "cells": [
  {
   "cell_type": "markdown",
   "metadata": {},
   "source": [
    "## Auteur : \n",
    "Priscille Cynthia Mawut Toussi"
   ]
  },
  {
   "cell_type": "markdown",
   "metadata": {},
   "source": [
    "# Outils et écosystème de la science des données\n"
   ]
  },
  {
   "cell_type": "markdown",
   "metadata": {},
   "source": [
    "Dans ce notebook, les outils et l'écosystème de la science des données sont résumés."
   ]
  },
  {
   "cell_type": "markdown",
   "metadata": {},
   "source": [
    "**Objectifs :**\n",
    "\n",
    "- Lister les langages populaires pour la science des données\n",
    "- Énumérer les bibliothèques couramment utilisées\n",
    "- Présenter des outils open source pour l'environnement de développement\n",
    "- Discuter des techniques d'analyse de données\n",
    "- Explorer des méthodes de visualisation des données"
   ]
  },
  {
   "cell_type": "markdown",
   "metadata": {},
   "source": [
    "## Certains des langages populaires que les scientifiques des données utilisent sont :\n",
    "\n",
    "### 1. Python\n",
    "### 2. R\n",
    "### 3. SQL\n",
    "### 4. Julia\n",
    "### 5. Scala"
   ]
  },
  {
   "cell_type": "markdown",
   "metadata": {},
   "source": [
    "# Certaines des bibliothèques couramment utilisées par les scientifiques des données incluent :\n",
    "\n",
    "# 1. Pandas\n",
    "# 2. NumPy\n",
    "# 3. Matplotlib\n",
    "# 4. Scikit-learn\n",
    "# 5. TensorFlow"
   ]
  },
  {
   "cell_type": "markdown",
   "metadata": {
    "vscode": {
     "languageId": "plaintext"
    }
   },
   "source": [
    "## Table\n",
    "\n",
    "| Outils de la data science | \n",
    "| -------------| \n",
    "| Jupyter Notebook | \n",
    "| Rstudio | \n",
    "| Apache Spark |"
   ]
  },
  {
   "cell_type": "markdown",
   "metadata": {
    "vscode": {
     "languageId": "plaintext"
    }
   },
   "source": [
    "### Voici quelques exemples d'évaluation d'expressions arithmétiques en Python"
   ]
  },
  {
   "cell_type": "code",
   "execution_count": 2,
   "metadata": {},
   "outputs": [
    {
     "data": {
      "text/plain": [
       "17"
      ]
     },
     "execution_count": 2,
     "metadata": {},
     "output_type": "execute_result"
    }
   ],
   "source": [
    "# Ceci est une simple expression arithmétique pour multiplier puis additionner des entiers\n",
    "\n",
    "(3*4)+5"
   ]
  },
  {
   "cell_type": "code",
   "execution_count": 3,
   "metadata": {},
   "outputs": [
    {
     "data": {
      "text/plain": [
       "3"
      ]
     },
     "execution_count": 3,
     "metadata": {},
     "output_type": "execute_result"
    }
   ],
   "source": [
    "# Cela convertira 200 minutes en heures en divisant par 60.\n",
    "\n",
    "200//60"
   ]
  }
 ],
 "metadata": {
  "kernelspec": {
   "display_name": "Python 3",
   "language": "python",
   "name": "python3"
  },
  "language_info": {
   "codemirror_mode": {
    "name": "ipython",
    "version": 3
   },
   "file_extension": ".py",
   "mimetype": "text/x-python",
   "name": "python",
   "nbconvert_exporter": "python",
   "pygments_lexer": "ipython3",
   "version": "3.7.2"
  }
 },
 "nbformat": 4,
 "nbformat_minor": 2
}
